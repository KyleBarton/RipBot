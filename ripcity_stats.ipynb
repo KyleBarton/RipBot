{
 "cells": [
  {
   "cell_type": "code",
   "execution_count": 8,
   "metadata": {
    "collapsed": false
   },
   "outputs": [],
   "source": [
    "from groupy import config, Group, Bot\n",
    "import pandas as pd\n",
    "import numpy as np\n",
    "import matplotlib.pyplot as plt\n",
    "import matplotlib\n",
    "matplotlib.style.use('ggplot')\n",
    "%matplotlib inline"
   ]
  },
  {
   "cell_type": "code",
   "execution_count": 9,
   "metadata": {
    "collapsed": false
   },
   "outputs": [],
   "source": [
    "# get group; if don't know group_id can filter by name (but name liable to change)\n",
    "with open('groupy_key.txt', 'r') as f:\n",
    "    key = f.read()\n",
    "config.API_KEY = key\n",
    "# rip = Group.list().filter(group_id='13678029')[0] # rip city\n",
    "rip = Group.list().filter(group_id='24338846')[0] # stag city"
   ]
  },
  {
   "cell_type": "code",
   "execution_count": 10,
   "metadata": {
    "collapsed": true
   },
   "outputs": [],
   "source": [
    "# make a dict to go from user_ids to current name\n",
    "rip_names = list(map(str, rip.members()))\n",
    "rip_ids = list(map(lambda x: str(x.user_id), rip.members()))\n",
    "rip_dict = dict(zip(rip_ids, rip_names))\n",
    "# find and change accordingly\n",
    "rip_dict['system'] = 'system'\n",
    "# rip_dict['354536'] = 'ripbot'\n",
    "rip_dict['356381'] = 'fitbot'"
   ]
  },
  {
   "cell_type": "code",
   "execution_count": 11,
   "metadata": {
    "collapsed": false
   },
   "outputs": [
    {
     "data": {
      "text/plain": [
       "1578"
      ]
     },
     "execution_count": 11,
     "metadata": {},
     "output_type": "execute_result"
    }
   ],
   "source": [
    "rip.message_count"
   ]
  },
  {
   "cell_type": "code",
   "execution_count": 12,
   "metadata": {
    "collapsed": true
   },
   "outputs": [],
   "source": [
    "# get all messages (11,000+)\n",
    "messages = rip.messages()\n",
    "while messages.iolder():\n",
    "    pass"
   ]
  },
  {
   "cell_type": "code",
   "execution_count": 13,
   "metadata": {
    "collapsed": true
   },
   "outputs": [],
   "source": [
    "# get info about messages\n",
    "m_times = [m.created_at for m in messages]\n",
    "m_users = [m.user_id for m in messages]\n",
    "m_likes = [len(m.likes()) for m in messages]\n",
    "m_text = [str(m.text).strip() for m in messages]"
   ]
  },
  {
   "cell_type": "code",
   "execution_count": 14,
   "metadata": {
    "collapsed": true
   },
   "outputs": [],
   "source": [
    "# put into dataframe\n",
    "df = pd.DataFrame({'user_id':m_users}, index=m_times)\n",
    "df['name'] = df['user_id'].map(rip_dict)\n",
    "df['likes'] = m_likes\n",
    "df['text'] = m_text\n",
    "df['chars'] = df['text'].map(lambda x: len(x))"
   ]
  },
  {
   "cell_type": "code",
   "execution_count": 15,
   "metadata": {
    "collapsed": false
   },
   "outputs": [
    {
     "data": {
      "text/html": [
       "<div>\n",
       "<table border=\"1\" class=\"dataframe\">\n",
       "  <thead>\n",
       "    <tr style=\"text-align: right;\">\n",
       "      <th></th>\n",
       "      <th>user_id</th>\n",
       "      <th>name</th>\n",
       "      <th>likes</th>\n",
       "      <th>text</th>\n",
       "      <th>chars</th>\n",
       "    </tr>\n",
       "  </thead>\n",
       "  <tbody>\n",
       "    <tr>\n",
       "      <th>2016-11-18 11:39:12</th>\n",
       "      <td>22942080</td>\n",
       "      <td>AT</td>\n",
       "      <td>0</td>\n",
       "      <td>You're actually closer to me</td>\n",
       "      <td>28</td>\n",
       "    </tr>\n",
       "    <tr>\n",
       "      <th>2016-11-18 11:38:52</th>\n",
       "      <td>22942080</td>\n",
       "      <td>AT</td>\n",
       "      <td>0</td>\n",
       "      <td>I thought he lived out in Beaverton, not way S...</td>\n",
       "      <td>56</td>\n",
       "    </tr>\n",
       "    <tr>\n",
       "      <th>2016-11-18 11:37:37</th>\n",
       "      <td>356381</td>\n",
       "      <td>fitbot</td>\n",
       "      <td>2</td>\n",
       "      <td>https://media2.giphy.com/media/FTtkq5gIGkHXa/g...</td>\n",
       "      <td>54</td>\n",
       "    </tr>\n",
       "    <tr>\n",
       "      <th>2016-11-18 11:37:37</th>\n",
       "      <td>19577557</td>\n",
       "      <td>Tyler Honsinger</td>\n",
       "      <td>0</td>\n",
       "      <td>Gifme titties</td>\n",
       "      <td>13</td>\n",
       "    </tr>\n",
       "    <tr>\n",
       "      <th>2016-11-18 11:36:57</th>\n",
       "      <td>15629412</td>\n",
       "      <td>Ben Whitehead</td>\n",
       "      <td>0</td>\n",
       "      <td>19025 sw Chesapeake dr tualatin or 97062</td>\n",
       "      <td>40</td>\n",
       "    </tr>\n",
       "  </tbody>\n",
       "</table>\n",
       "</div>"
      ],
      "text/plain": [
       "                      user_id             name  likes  \\\n",
       "2016-11-18 11:39:12  22942080               AT      0   \n",
       "2016-11-18 11:38:52  22942080               AT      0   \n",
       "2016-11-18 11:37:37    356381           fitbot      2   \n",
       "2016-11-18 11:37:37  19577557  Tyler Honsinger      0   \n",
       "2016-11-18 11:36:57  15629412    Ben Whitehead      0   \n",
       "\n",
       "                                                                  text  chars  \n",
       "2016-11-18 11:39:12                       You're actually closer to me     28  \n",
       "2016-11-18 11:38:52  I thought he lived out in Beaverton, not way S...     56  \n",
       "2016-11-18 11:37:37  https://media2.giphy.com/media/FTtkq5gIGkHXa/g...     54  \n",
       "2016-11-18 11:37:37                                      Gifme titties     13  \n",
       "2016-11-18 11:36:57           19025 sw Chesapeake dr tualatin or 97062     40  "
      ]
     },
     "execution_count": 15,
     "metadata": {},
     "output_type": "execute_result"
    }
   ],
   "source": [
    "df.head()"
   ]
  },
  {
   "cell_type": "code",
   "execution_count": 16,
   "metadata": {
    "collapsed": true
   },
   "outputs": [],
   "source": [
    "# calc some stats\n",
    "stats = pd.DataFrame({'messages':df['name'].value_counts()})\n",
    "stats.index.rename('name', inplace=True)\n",
    "sums = df.groupby(['name']).sum()\n",
    "\n",
    "stats = stats.merge(sums, left_index=True, right_index=True)\n",
    "stats['like_per_m'] = stats['likes'] / stats['messages']\n",
    "stats['like_per_char'] = stats['likes'] / stats['chars']"
   ]
  },
  {
   "cell_type": "code",
   "execution_count": 17,
   "metadata": {
    "collapsed": true
   },
   "outputs": [],
   "source": [
    "num_m = stats['messages'].sum()\n",
    "num_l = stats['likes'].sum()"
   ]
  },
  {
   "cell_type": "code",
   "execution_count": 18,
   "metadata": {
    "collapsed": true
   },
   "outputs": [],
   "source": [
    "stats['perc_m'] = stats['messages'] / num_m * 100\n",
    "stats['perc_l'] = stats['likes'] / num_l * 100"
   ]
  },
  {
   "cell_type": "code",
   "execution_count": 19,
   "metadata": {
    "collapsed": false
   },
   "outputs": [
    {
     "data": {
      "text/html": [
       "<div>\n",
       "<table border=\"1\" class=\"dataframe\">\n",
       "  <thead>\n",
       "    <tr style=\"text-align: right;\">\n",
       "      <th></th>\n",
       "      <th>messages</th>\n",
       "      <th>likes</th>\n",
       "      <th>chars</th>\n",
       "      <th>like_per_m</th>\n",
       "      <th>like_per_char</th>\n",
       "      <th>perc_m</th>\n",
       "      <th>perc_l</th>\n",
       "    </tr>\n",
       "    <tr>\n",
       "      <th>name</th>\n",
       "      <th></th>\n",
       "      <th></th>\n",
       "      <th></th>\n",
       "      <th></th>\n",
       "      <th></th>\n",
       "      <th></th>\n",
       "      <th></th>\n",
       "    </tr>\n",
       "  </thead>\n",
       "  <tbody>\n",
       "    <tr>\n",
       "      <th>AT</th>\n",
       "      <td>354</td>\n",
       "      <td>142</td>\n",
       "      <td>13000</td>\n",
       "      <td>0.401130</td>\n",
       "      <td>0.010923</td>\n",
       "      <td>22.433460</td>\n",
       "      <td>17.884131</td>\n",
       "    </tr>\n",
       "    <tr>\n",
       "      <th>Tyler Honsinger</th>\n",
       "      <td>221</td>\n",
       "      <td>88</td>\n",
       "      <td>6176</td>\n",
       "      <td>0.398190</td>\n",
       "      <td>0.014249</td>\n",
       "      <td>14.005070</td>\n",
       "      <td>11.083123</td>\n",
       "    </tr>\n",
       "    <tr>\n",
       "      <th>fitbot</th>\n",
       "      <td>201</td>\n",
       "      <td>106</td>\n",
       "      <td>13412</td>\n",
       "      <td>0.527363</td>\n",
       "      <td>0.007903</td>\n",
       "      <td>12.737643</td>\n",
       "      <td>13.350126</td>\n",
       "    </tr>\n",
       "    <tr>\n",
       "      <th>Kyle Barton</th>\n",
       "      <td>181</td>\n",
       "      <td>104</td>\n",
       "      <td>8956</td>\n",
       "      <td>0.574586</td>\n",
       "      <td>0.011612</td>\n",
       "      <td>11.470215</td>\n",
       "      <td>13.098237</td>\n",
       "    </tr>\n",
       "    <tr>\n",
       "      <th>Ben Whitehead</th>\n",
       "      <td>152</td>\n",
       "      <td>61</td>\n",
       "      <td>5559</td>\n",
       "      <td>0.401316</td>\n",
       "      <td>0.010973</td>\n",
       "      <td>9.632446</td>\n",
       "      <td>7.682620</td>\n",
       "    </tr>\n",
       "    <tr>\n",
       "      <th>August Schwartz</th>\n",
       "      <td>149</td>\n",
       "      <td>69</td>\n",
       "      <td>4522</td>\n",
       "      <td>0.463087</td>\n",
       "      <td>0.015259</td>\n",
       "      <td>9.442332</td>\n",
       "      <td>8.690176</td>\n",
       "    </tr>\n",
       "    <tr>\n",
       "      <th>Austin Kelly</th>\n",
       "      <td>77</td>\n",
       "      <td>38</td>\n",
       "      <td>2851</td>\n",
       "      <td>0.493506</td>\n",
       "      <td>0.013329</td>\n",
       "      <td>4.879594</td>\n",
       "      <td>4.785894</td>\n",
       "    </tr>\n",
       "    <tr>\n",
       "      <th>Chris Blaydon</th>\n",
       "      <td>63</td>\n",
       "      <td>53</td>\n",
       "      <td>2311</td>\n",
       "      <td>0.841270</td>\n",
       "      <td>0.022934</td>\n",
       "      <td>3.992395</td>\n",
       "      <td>6.675063</td>\n",
       "    </tr>\n",
       "    <tr>\n",
       "      <th>Ethan Bruno</th>\n",
       "      <td>56</td>\n",
       "      <td>34</td>\n",
       "      <td>3194</td>\n",
       "      <td>0.607143</td>\n",
       "      <td>0.010645</td>\n",
       "      <td>3.548796</td>\n",
       "      <td>4.282116</td>\n",
       "    </tr>\n",
       "    <tr>\n",
       "      <th>Peach</th>\n",
       "      <td>56</td>\n",
       "      <td>42</td>\n",
       "      <td>1832</td>\n",
       "      <td>0.750000</td>\n",
       "      <td>0.022926</td>\n",
       "      <td>3.548796</td>\n",
       "      <td>5.289673</td>\n",
       "    </tr>\n",
       "    <tr>\n",
       "      <th>Tiemo Sebastian</th>\n",
       "      <td>48</td>\n",
       "      <td>37</td>\n",
       "      <td>2944</td>\n",
       "      <td>0.770833</td>\n",
       "      <td>0.012568</td>\n",
       "      <td>3.041825</td>\n",
       "      <td>4.659950</td>\n",
       "    </tr>\n",
       "    <tr>\n",
       "      <th>system</th>\n",
       "      <td>14</td>\n",
       "      <td>9</td>\n",
       "      <td>759</td>\n",
       "      <td>0.642857</td>\n",
       "      <td>0.011858</td>\n",
       "      <td>0.887199</td>\n",
       "      <td>1.133501</td>\n",
       "    </tr>\n",
       "    <tr>\n",
       "      <th>Michael Hayes</th>\n",
       "      <td>5</td>\n",
       "      <td>7</td>\n",
       "      <td>585</td>\n",
       "      <td>1.400000</td>\n",
       "      <td>0.011966</td>\n",
       "      <td>0.316857</td>\n",
       "      <td>0.881612</td>\n",
       "    </tr>\n",
       "    <tr>\n",
       "      <th>Ludwig RIP</th>\n",
       "      <td>1</td>\n",
       "      <td>4</td>\n",
       "      <td>66</td>\n",
       "      <td>4.000000</td>\n",
       "      <td>0.060606</td>\n",
       "      <td>0.063371</td>\n",
       "      <td>0.503778</td>\n",
       "    </tr>\n",
       "  </tbody>\n",
       "</table>\n",
       "</div>"
      ],
      "text/plain": [
       "                 messages  likes  chars  like_per_m  like_per_char     perc_m  \\\n",
       "name                                                                            \n",
       "AT                    354    142  13000    0.401130       0.010923  22.433460   \n",
       "Tyler Honsinger       221     88   6176    0.398190       0.014249  14.005070   \n",
       "fitbot                201    106  13412    0.527363       0.007903  12.737643   \n",
       "Kyle Barton           181    104   8956    0.574586       0.011612  11.470215   \n",
       "Ben Whitehead         152     61   5559    0.401316       0.010973   9.632446   \n",
       "August Schwartz       149     69   4522    0.463087       0.015259   9.442332   \n",
       "Austin Kelly           77     38   2851    0.493506       0.013329   4.879594   \n",
       "Chris Blaydon          63     53   2311    0.841270       0.022934   3.992395   \n",
       "Ethan Bruno            56     34   3194    0.607143       0.010645   3.548796   \n",
       "Peach                  56     42   1832    0.750000       0.022926   3.548796   \n",
       "Tiemo Sebastian        48     37   2944    0.770833       0.012568   3.041825   \n",
       "system                 14      9    759    0.642857       0.011858   0.887199   \n",
       "Michael Hayes           5      7    585    1.400000       0.011966   0.316857   \n",
       "Ludwig RIP              1      4     66    4.000000       0.060606   0.063371   \n",
       "\n",
       "                    perc_l  \n",
       "name                        \n",
       "AT               17.884131  \n",
       "Tyler Honsinger  11.083123  \n",
       "fitbot           13.350126  \n",
       "Kyle Barton      13.098237  \n",
       "Ben Whitehead     7.682620  \n",
       "August Schwartz   8.690176  \n",
       "Austin Kelly      4.785894  \n",
       "Chris Blaydon     6.675063  \n",
       "Ethan Bruno       4.282116  \n",
       "Peach             5.289673  \n",
       "Tiemo Sebastian   4.659950  \n",
       "system            1.133501  \n",
       "Michael Hayes     0.881612  \n",
       "Ludwig RIP        0.503778  "
      ]
     },
     "execution_count": 19,
     "metadata": {},
     "output_type": "execute_result"
    }
   ],
   "source": [
    "stats.sort_values('messages', ascending=False)"
   ]
  },
  {
   "cell_type": "code",
   "execution_count": 20,
   "metadata": {
    "collapsed": false
   },
   "outputs": [
    {
     "data": {
      "text/plain": [
       "<matplotlib.text.Text at 0x921f50>"
      ]
     },
     "execution_count": 20,
     "metadata": {},
     "output_type": "execute_result"
    },
    {
     "data": {
      "image/png": "[encoded data removed]",
      "text/plain": [
       "<matplotlib.figure.Figure at 0x894250>"
      ]
     },
     "metadata": {},
     "output_type": "display_data"
    }
   ],
   "source": [
    "# do some plotting\n",
    "ax = df.groupby([df.index.hour])['user_id'].count().plot(kind='bar')\n",
    "ax.set_ylabel('Message count')\n",
    "ax.set_xlabel('Hour of day')\n",
    "ax.set_title('Message count by hour')"
   ]
  },
  {
   "cell_type": "code",
   "execution_count": 21,
   "metadata": {
    "collapsed": false
   },
   "outputs": [
    {
     "data": {
      "text/plain": [
       "<matplotlib.text.Text at 0xd119f0>"
      ]
     },
     "execution_count": 21,
     "metadata": {},
     "output_type": "execute_result"
    },
    {
     "data": {
      "image/png": "[encoded data removed]",
      "text/plain": [
       "<matplotlib.figure.Figure at 0x94f850>"
      ]
     },
     "metadata": {},
     "output_type": "display_data"
    }
   ],
   "source": [
    "ax2 = stats[['messages', 'likes']].sort_values('messages', ascending=False).head(20).plot(kind='bar', stacked=False)\n",
    "ax2.set_ylabel('number of message/like')\n",
    "ax2.set_title('message/like count')"
   ]
  },
  {
   "cell_type": "code",
   "execution_count": 22,
   "metadata": {
    "collapsed": true
   },
   "outputs": [],
   "source": [
    "import io\n",
    "corpus = io.StringIO()\n",
    "for m in df['text']:\n",
    "    try:\n",
    "        corpus.write(m + '\\n\\n')\n",
    "    except UnicodeEncodeError:\n",
    "        pass"
   ]
  },
  {
   "cell_type": "code",
   "execution_count": 23,
   "metadata": {
    "collapsed": true
   },
   "outputs": [],
   "source": [
    "import markovify\n",
    "text_model = markovify.NewlineText(corpus.getvalue())"
   ]
  },
  {
   "cell_type": "code",
   "execution_count": 24,
   "metadata": {
    "collapsed": false
   },
   "outputs": [
    {
     "name": "stdout",
     "output_type": "stream",
     "text": [
      "Danny is killing me in the great white North?\n",
      "\n",
      "Not west of the classes too\n",
      "\n",
      "Yo. Were we supposed to ignore its own posts, so if the bot plus pluses or something\n",
      "\n",
      "No shots unfortunately. I'm about 10 minutes from downtown so I might swing by for a week and a half. Damn. If anybody else wants to come throw but don't want to throw at Buckmanan.\n",
      "\n",
      "too good to be up there..\n",
      "\n"
     ]
    }
   ],
   "source": [
    "for i in range(5):\n",
    "    print(text_model.make_sentence())\n",
    "    print()"
   ]
  },
  {
   "cell_type": "code",
   "execution_count": 28,
   "metadata": {
    "collapsed": false
   },
   "outputs": [
    {
     "name": "stdout",
     "output_type": "stream",
     "text": [
      "['22942080', '13810222', '19657123', '15629412'] [[1, 0], [1, 0], [1, 0], [1, 0]]\n"
     ]
    },
    {
     "data": {
      "text/plain": [
       "True"
      ]
     },
     "execution_count": 28,
     "metadata": {},
     "output_type": "execute_result"
    }
   ],
   "source": [
    "test_bot = Bot.list().filter(group_id='23373961')[0]\n",
    "group = Group.list().filter(group_id='23373961')[0]\n",
    "# 24338846\n",
    "ids = [member.user_id for member in group.members()]\n",
    "loci = [[1, 0]] * len(ids)\n",
    "print(ids, loci)\n",
    "mens = attachments.Mentions(ids, loci)\n",
    "# test_bot.post('Mention everyone.', mens)"
   ]
  }
 ],
 "metadata": {
  "anaconda-cloud": {},
  "kernelspec": {
   "display_name": "Python [conda env:python3]",
   "language": "python",
   "name": "conda-env-python3-py"
  },
  "language_info": {
   "codemirror_mode": {
    "name": "ipython",
    "version": 3
   },
   "file_extension": ".py",
   "mimetype": "text/x-python",
   "name": "python",
   "nbconvert_exporter": "python",
   "pygments_lexer": "ipython3",
   "version": "3.5.2"
  }
 },
 "nbformat": 4,
 "nbformat_minor": 1
}

{
 "cells": [
  {
   "cell_type": "code",
   "execution_count": 150,
   "metadata": {
    "collapsed": true
   },
   "outputs": [],
   "source": [
    "from groupy import config, Group, Bot\n",
    "import pandas as pd\n",
    "import numpy as np\n",
    "import matplotlib.pyplot as plt\n",
    "import matplotlib\n",
    "matplotlib.style.use('ggplot')\n",
    "%matplotlib inline"
   ]
  },
  {
   "cell_type": "code",
   "execution_count": 115,
   "metadata": {
    "collapsed": false
   },
   "outputs": [],
   "source": [
    "# get group; if don't know group_id can filter by name (but name liable to change)\n",
    "config.API_KEY = 'Obswbyyf83EViCprfCOJHER8XbhMCd0Up99c3FBj'\n",
    "# rip = Group.list().filter(group_id='13678029')[0] # rip city\n",
    "rip = Group.list().filter(group_id='24338846')[0] # stag city"
   ]
  },
  {
   "cell_type": "code",
   "execution_count": 116,
   "metadata": {
    "collapsed": true
   },
   "outputs": [],
   "source": [
    "# make a dict to go from user_ids to current name\n",
    "rip_names = list(map(str, rip.members()))\n",
    "rip_ids = list(map(lambda x: str(x.user_id), rip.members()))\n",
    "rip_dict = dict(zip(rip_ids, rip_names))\n",
    "# find and change accordingly\n",
    "rip_dict['system'] = 'system'\n",
    "# rip_dict['354536'] = 'ripbot'\n",
    "rip_dict['356381'] = 'fitbot'"
   ]
  },
  {
   "cell_type": "code",
   "execution_count": 117,
   "metadata": {
    "collapsed": false
   },
   "outputs": [
    {
     "data": {
      "text/plain": [
       "1384"
      ]
     },
     "execution_count": 117,
     "metadata": {},
     "output_type": "execute_result"
    }
   ],
   "source": [
    "rip.message_count"
   ]
  },
  {
   "cell_type": "code",
   "execution_count": 118,
   "metadata": {
    "collapsed": true
   },
   "outputs": [],
   "source": [
    "# get all messages (11,000+)\n",
    "messages = rip.messages()\n",
    "while messages.iolder():\n",
    "    pass"
   ]
  },
  {
   "cell_type": "code",
   "execution_count": 119,
   "metadata": {
    "collapsed": true
   },
   "outputs": [],
   "source": [
    "# get info about messages\n",
    "m_times = [m.created_at for m in messages]\n",
    "m_users = [m.user_id for m in messages]\n",
    "m_likes = [len(m.likes()) for m in messages]\n",
    "m_text = [str(m.text).strip() for m in messages]"
   ]
  },
  {
   "cell_type": "code",
   "execution_count": 120,
   "metadata": {
    "collapsed": true
   },
   "outputs": [],
   "source": [
    "# put into dataframe\n",
    "df = pd.DataFrame({'user_id':m_users}, index=m_times)\n",
    "df['name'] = df['user_id'].map(rip_dict)\n",
    "df['likes'] = m_likes\n",
    "df['text'] = m_text\n",
    "df['chars'] = df['text'].map(lambda x: len(x))"
   ]
  },
  {
   "cell_type": "code",
   "execution_count": 121,
   "metadata": {
    "collapsed": false
   },
   "outputs": [
    {
     "data": {
      "text/html": [
       "<div>\n",
       "<table border=\"1\" class=\"dataframe\">\n",
       "  <thead>\n",
       "    <tr style=\"text-align: right;\">\n",
       "      <th></th>\n",
       "      <th>user_id</th>\n",
       "      <th>name</th>\n",
       "      <th>likes</th>\n",
       "      <th>text</th>\n",
       "      <th>chars</th>\n",
       "    </tr>\n",
       "  </thead>\n",
       "  <tbody>\n",
       "    <tr>\n",
       "      <th>2016-11-15 11:03:45</th>\n",
       "      <td>22942080</td>\n",
       "      <td>AT</td>\n",
       "      <td>0</td>\n",
       "      <td>Thanks for setting this up</td>\n",
       "      <td>26</td>\n",
       "    </tr>\n",
       "    <tr>\n",
       "      <th>2016-11-15 11:03:32</th>\n",
       "      <td>22942080</td>\n",
       "      <td>AT</td>\n",
       "      <td>1</td>\n",
       "      <td>No worries</td>\n",
       "      <td>10</td>\n",
       "    </tr>\n",
       "    <tr>\n",
       "      <th>2016-11-15 11:03:20</th>\n",
       "      <td>9197895</td>\n",
       "      <td>Kyle Barton</td>\n",
       "      <td>0</td>\n",
       "      <td>Alright sorry @AT I'm gonna keep the time. I'l...</td>\n",
       "      <td>145</td>\n",
       "    </tr>\n",
       "    <tr>\n",
       "      <th>2016-11-15 10:50:17</th>\n",
       "      <td>15629412</td>\n",
       "      <td>Ben Whitehead</td>\n",
       "      <td>1</td>\n",
       "      <td>I can do thurs at 6 as well</td>\n",
       "      <td>27</td>\n",
       "    </tr>\n",
       "    <tr>\n",
       "      <th>2016-11-15 10:50:10</th>\n",
       "      <td>9197895</td>\n",
       "      <td>Kyle Barton</td>\n",
       "      <td>1</td>\n",
       "      <td>I'd like to rest Wednesday. Fall league + lift...</td>\n",
       "      <td>78</td>\n",
       "    </tr>\n",
       "  </tbody>\n",
       "</table>\n",
       "</div>"
      ],
      "text/plain": [
       "                      user_id           name  likes  \\\n",
       "2016-11-15 11:03:45  22942080             AT      0   \n",
       "2016-11-15 11:03:32  22942080             AT      1   \n",
       "2016-11-15 11:03:20   9197895    Kyle Barton      0   \n",
       "2016-11-15 10:50:17  15629412  Ben Whitehead      1   \n",
       "2016-11-15 10:50:10   9197895    Kyle Barton      1   \n",
       "\n",
       "                                                                  text  chars  \n",
       "2016-11-15 11:03:45                         Thanks for setting this up     26  \n",
       "2016-11-15 11:03:32                                         No worries     10  \n",
       "2016-11-15 11:03:20  Alright sorry @AT I'm gonna keep the time. I'l...    145  \n",
       "2016-11-15 10:50:17                        I can do thurs at 6 as well     27  \n",
       "2016-11-15 10:50:10  I'd like to rest Wednesday. Fall league + lift...     78  "
      ]
     },
     "execution_count": 121,
     "metadata": {},
     "output_type": "execute_result"
    }
   ],
   "source": [
    "df.head()"
   ]
  },
  {
   "cell_type": "code",
   "execution_count": 122,
   "metadata": {
    "collapsed": true
   },
   "outputs": [],
   "source": [
    "# calc some stats\n",
    "stats = pd.DataFrame({'messages':df['name'].value_counts()})\n",
    "stats.index.rename('name', inplace=True)\n",
    "sums = df.groupby(['name']).sum()\n",
    "\n",
    "stats = stats.merge(sums, left_index=True, right_index=True)\n",
    "stats['like_per_m'] = stats['likes'] / stats['messages']\n",
    "stats['like_per_char'] = stats['likes'] / stats['chars']"
   ]
  },
  {
   "cell_type": "code",
   "execution_count": 123,
   "metadata": {
    "collapsed": true
   },
   "outputs": [],
   "source": [
    "num_m = stats['messages'].sum()\n",
    "num_l = stats['likes'].sum()"
   ]
  },
  {
   "cell_type": "code",
   "execution_count": 124,
   "metadata": {
    "collapsed": true
   },
   "outputs": [],
   "source": [
    "stats['perc_m'] = stats['messages'] / num_m * 100\n",
    "stats['perc_l'] = stats['likes'] / num_l * 100"
   ]
  },
  {
   "cell_type": "code",
   "execution_count": 125,
   "metadata": {
    "collapsed": false
   },
   "outputs": [
    {
     "data": {
      "text/html": [
       "<div>\n",
       "<table border=\"1\" class=\"dataframe\">\n",
       "  <thead>\n",
       "    <tr style=\"text-align: right;\">\n",
       "      <th></th>\n",
       "      <th>messages</th>\n",
       "      <th>likes</th>\n",
       "      <th>chars</th>\n",
       "      <th>like_per_m</th>\n",
       "      <th>like_per_char</th>\n",
       "      <th>perc_m</th>\n",
       "      <th>perc_l</th>\n",
       "    </tr>\n",
       "    <tr>\n",
       "      <th>name</th>\n",
       "      <th></th>\n",
       "      <th></th>\n",
       "      <th></th>\n",
       "      <th></th>\n",
       "      <th></th>\n",
       "      <th></th>\n",
       "      <th></th>\n",
       "    </tr>\n",
       "  </thead>\n",
       "  <tbody>\n",
       "    <tr>\n",
       "      <th>AT</th>\n",
       "      <td>290</td>\n",
       "      <td>121</td>\n",
       "      <td>10185</td>\n",
       "      <td>0.417241</td>\n",
       "      <td>0.011880</td>\n",
       "      <td>20.953757</td>\n",
       "      <td>17.090395</td>\n",
       "    </tr>\n",
       "    <tr>\n",
       "      <th>Tyler Honsinger</th>\n",
       "      <td>209</td>\n",
       "      <td>84</td>\n",
       "      <td>5891</td>\n",
       "      <td>0.401914</td>\n",
       "      <td>0.014259</td>\n",
       "      <td>15.101156</td>\n",
       "      <td>11.864407</td>\n",
       "    </tr>\n",
       "    <tr>\n",
       "      <th>Kyle Barton</th>\n",
       "      <td>180</td>\n",
       "      <td>99</td>\n",
       "      <td>8939</td>\n",
       "      <td>0.550000</td>\n",
       "      <td>0.011075</td>\n",
       "      <td>13.005780</td>\n",
       "      <td>13.983051</td>\n",
       "    </tr>\n",
       "    <tr>\n",
       "      <th>fitbot</th>\n",
       "      <td>148</td>\n",
       "      <td>77</td>\n",
       "      <td>10790</td>\n",
       "      <td>0.520270</td>\n",
       "      <td>0.007136</td>\n",
       "      <td>10.693642</td>\n",
       "      <td>10.875706</td>\n",
       "    </tr>\n",
       "    <tr>\n",
       "      <th>August Schwartz</th>\n",
       "      <td>141</td>\n",
       "      <td>67</td>\n",
       "      <td>4423</td>\n",
       "      <td>0.475177</td>\n",
       "      <td>0.015148</td>\n",
       "      <td>10.187861</td>\n",
       "      <td>9.463277</td>\n",
       "    </tr>\n",
       "    <tr>\n",
       "      <th>Ben Whitehead</th>\n",
       "      <td>118</td>\n",
       "      <td>52</td>\n",
       "      <td>4289</td>\n",
       "      <td>0.440678</td>\n",
       "      <td>0.012124</td>\n",
       "      <td>8.526012</td>\n",
       "      <td>7.344633</td>\n",
       "    </tr>\n",
       "    <tr>\n",
       "      <th>Austin Kelly</th>\n",
       "      <td>69</td>\n",
       "      <td>35</td>\n",
       "      <td>2603</td>\n",
       "      <td>0.507246</td>\n",
       "      <td>0.013446</td>\n",
       "      <td>4.985549</td>\n",
       "      <td>4.943503</td>\n",
       "    </tr>\n",
       "    <tr>\n",
       "      <th>Chris Blaydon</th>\n",
       "      <td>59</td>\n",
       "      <td>50</td>\n",
       "      <td>2206</td>\n",
       "      <td>0.847458</td>\n",
       "      <td>0.022665</td>\n",
       "      <td>4.263006</td>\n",
       "      <td>7.062147</td>\n",
       "    </tr>\n",
       "    <tr>\n",
       "      <th>Ethan Bruno</th>\n",
       "      <td>56</td>\n",
       "      <td>34</td>\n",
       "      <td>3194</td>\n",
       "      <td>0.607143</td>\n",
       "      <td>0.010645</td>\n",
       "      <td>4.046243</td>\n",
       "      <td>4.802260</td>\n",
       "    </tr>\n",
       "    <tr>\n",
       "      <th>Peach</th>\n",
       "      <td>56</td>\n",
       "      <td>42</td>\n",
       "      <td>1832</td>\n",
       "      <td>0.750000</td>\n",
       "      <td>0.022926</td>\n",
       "      <td>4.046243</td>\n",
       "      <td>5.932203</td>\n",
       "    </tr>\n",
       "    <tr>\n",
       "      <th>Tiemo Sebastian</th>\n",
       "      <td>39</td>\n",
       "      <td>29</td>\n",
       "      <td>2384</td>\n",
       "      <td>0.743590</td>\n",
       "      <td>0.012164</td>\n",
       "      <td>2.817919</td>\n",
       "      <td>4.096045</td>\n",
       "    </tr>\n",
       "    <tr>\n",
       "      <th>system</th>\n",
       "      <td>13</td>\n",
       "      <td>7</td>\n",
       "      <td>700</td>\n",
       "      <td>0.538462</td>\n",
       "      <td>0.010000</td>\n",
       "      <td>0.939306</td>\n",
       "      <td>0.988701</td>\n",
       "    </tr>\n",
       "    <tr>\n",
       "      <th>Michael Hayes</th>\n",
       "      <td>5</td>\n",
       "      <td>7</td>\n",
       "      <td>585</td>\n",
       "      <td>1.400000</td>\n",
       "      <td>0.011966</td>\n",
       "      <td>0.361272</td>\n",
       "      <td>0.988701</td>\n",
       "    </tr>\n",
       "    <tr>\n",
       "      <th>Ludwig RIP</th>\n",
       "      <td>1</td>\n",
       "      <td>4</td>\n",
       "      <td>66</td>\n",
       "      <td>4.000000</td>\n",
       "      <td>0.060606</td>\n",
       "      <td>0.072254</td>\n",
       "      <td>0.564972</td>\n",
       "    </tr>\n",
       "  </tbody>\n",
       "</table>\n",
       "</div>"
      ],
      "text/plain": [
       "                 messages  likes  chars  like_per_m  like_per_char     perc_m  \\\n",
       "name                                                                            \n",
       "AT                    290    121  10185    0.417241       0.011880  20.953757   \n",
       "Tyler Honsinger       209     84   5891    0.401914       0.014259  15.101156   \n",
       "Kyle Barton           180     99   8939    0.550000       0.011075  13.005780   \n",
       "fitbot                148     77  10790    0.520270       0.007136  10.693642   \n",
       "August Schwartz       141     67   4423    0.475177       0.015148  10.187861   \n",
       "Ben Whitehead         118     52   4289    0.440678       0.012124   8.526012   \n",
       "Austin Kelly           69     35   2603    0.507246       0.013446   4.985549   \n",
       "Chris Blaydon          59     50   2206    0.847458       0.022665   4.263006   \n",
       "Ethan Bruno            56     34   3194    0.607143       0.010645   4.046243   \n",
       "Peach                  56     42   1832    0.750000       0.022926   4.046243   \n",
       "Tiemo Sebastian        39     29   2384    0.743590       0.012164   2.817919   \n",
       "system                 13      7    700    0.538462       0.010000   0.939306   \n",
       "Michael Hayes           5      7    585    1.400000       0.011966   0.361272   \n",
       "Ludwig RIP              1      4     66    4.000000       0.060606   0.072254   \n",
       "\n",
       "                    perc_l  \n",
       "name                        \n",
       "AT               17.090395  \n",
       "Tyler Honsinger  11.864407  \n",
       "Kyle Barton      13.983051  \n",
       "fitbot           10.875706  \n",
       "August Schwartz   9.463277  \n",
       "Ben Whitehead     7.344633  \n",
       "Austin Kelly      4.943503  \n",
       "Chris Blaydon     7.062147  \n",
       "Ethan Bruno       4.802260  \n",
       "Peach             5.932203  \n",
       "Tiemo Sebastian   4.096045  \n",
       "system            0.988701  \n",
       "Michael Hayes     0.988701  \n",
       "Ludwig RIP        0.564972  "
      ]
     },
     "execution_count": 125,
     "metadata": {},
     "output_type": "execute_result"
    }
   ],
   "source": [
    "stats.sort_values('messages', ascending=False)"
   ]
  },
  {
   "cell_type": "code",
   "execution_count": 126,
   "metadata": {
    "collapsed": false
   },
   "outputs": [
    {
     "data": {
      "text/plain": [
       "<matplotlib.text.Text at 0xbb39b50>"
      ]
     },
     "execution_count": 126,
     "metadata": {},
     "output_type": "execute_result"
    },
    {
     "data": {
      "image/png": "[encoded data removed]",
      "text/plain": [
       "<matplotlib.figure.Figure at 0xba08e50>"
      ]
     },
     "metadata": {},
     "output_type": "display_data"
    }
   ],
   "source": [
    "# do some plotting\n",
    "ax = df.groupby([df.index.hour])['user_id'].count().plot(kind='bar')\n",
    "ax.set_ylabel('Message count')\n",
    "ax.set_xlabel('Hour of day')\n",
    "ax.set_title('Message count by hour')"
   ]
  },
  {
   "cell_type": "code",
   "execution_count": 127,
   "metadata": {
    "collapsed": false
   },
   "outputs": [
    {
     "data": {
      "text/plain": [
       "<matplotlib.text.Text at 0xb9554d0>"
      ]
     },
     "execution_count": 127,
     "metadata": {},
     "output_type": "execute_result"
    },
    {
     "data": {
      "image/png": "[encoded data removed]",
      "text/plain": [
       "<matplotlib.figure.Figure at 0xb6a0050>"
      ]
     },
     "metadata": {},
     "output_type": "display_data"
    }
   ],
   "source": [
    "ax2 = stats[['messages', 'likes']].sort_values('messages', ascending=False).head(20).plot(kind='bar', stacked=False)\n",
    "ax2.set_ylabel('number of message/like')\n",
    "ax2.set_title('message/like count')"
   ]
  },
  {
   "cell_type": "code",
   "execution_count": 146,
   "metadata": {
    "collapsed": false
   },
   "outputs": [],
   "source": [
    "import io\n",
    "corpus = io.StringIO()\n",
    "for m in df['text']:\n",
    "    try:\n",
    "        corpus.write(m + '\\n\\n')\n",
    "    except UnicodeEncodeError:\n",
    "        pass"
   ]
  },
  {
   "cell_type": "code",
   "execution_count": 147,
   "metadata": {
    "collapsed": false
   },
   "outputs": [],
   "source": [
    "import markovify\n",
    "\n",
    "text_model = markovify.NewlineText(corpus.getvalue())"
   ]
  },
  {
   "cell_type": "code",
   "execution_count": 148,
   "metadata": {
    "collapsed": false
   },
   "outputs": [
    {
     "name": "stdout",
     "output_type": "stream",
     "text": [
      "Oh well I got an extra ticket to the Church of Sanatan count?\n",
      "\n",
      "If pier park with ultrastars?\n",
      "\n",
      "Clear throughout the day. 13 °F, 0 % chance of rain, 0.99 mph wind for the next hour.\n",
      "\n",
      "Anybody wanna throw today? Pref before noon\n",
      "\n",
      "@AT And I wasn't sure if it throw a little too\n",
      "\n"
     ]
    }
   ],
   "source": [
    "for i in range(5):\n",
    "    print(text_model.make_sentence())\n",
    "    print()"
   ]
  },
  {
   "cell_type": "code",
   "execution_count": 149,
   "metadata": {
    "collapsed": false
   },
   "outputs": [
    {
     "name": "stdout",
     "output_type": "stream",
     "text": [
      "Found out how to work if you still wanna throw today?\n",
      "\n",
      "So is anyone able to get it back.\n",
      "\n",
      "Actually, I need to get a beer anyways\n",
      "\n"
     ]
    }
   ],
   "source": [
    "for i in range(3):\n",
    "    print(text_model.make_short_sentence(140))\n",
    "    print()"
   ]
  },
  {
   "cell_type": "code",
   "execution_count": 174,
   "metadata": {
    "collapsed": false
   },
   "outputs": [],
   "source": [
    "group_ids = list(map(int, [bot.group_id for bot in Bot.list()]))\n",
    "\n",
    "# make dict of all messages for each group\n",
    "markovs = {}\n",
    "for group_id in group_ids:\n",
    "    messages = Group.list().filter(group_id=str(group_id))[0].messages()\n",
    "    while messages.iolder():\n",
    "        pass\n",
    "    \n",
    "    corpus = io.StringIO()\n",
    "    for m in messages:\n",
    "        corpus.write(str(m.text).strip() + '\\n\\n')\n",
    "    \n",
    "    text_model = markovify.NewlineText(corpus.getvalue())\n",
    "    markovs[group_id] = text_model"
   ]
  },
  {
   "cell_type": "code",
   "execution_count": 204,
   "metadata": {
    "collapsed": false
   },
   "outputs": [
    {
     "data": {
      "text/plain": [
       "'538 would be better'"
      ]
     },
     "execution_count": 204,
     "metadata": {},
     "output_type": "execute_result"
    }
   ],
   "source": [
    "markovs[24338846].make_short_sentence(140)"
   ]
  },
  {
   "cell_type": "code",
   "execution_count": 199,
   "metadata": {
    "collapsed": false
   },
   "outputs": [
    {
     "data": {
      "text/plain": [
       "'Pat just wanted to let those reedies know'"
      ]
     },
     "execution_count": 199,
     "metadata": {},
     "output_type": "execute_result"
    }
   ],
   "source": [
    "markovs[13678029].make_short_sentence(140)"
   ]
  }
 ],
 "metadata": {
  "anaconda-cloud": {},
  "kernelspec": {
   "display_name": "Python [conda env:python3]",
   "language": "python",
   "name": "conda-env-python3-py"
  },
  "language_info": {
   "codemirror_mode": {
    "name": "ipython",
    "version": 3
   },
   "file_extension": ".py",
   "mimetype": "text/x-python",
   "name": "python",
   "nbconvert_exporter": "python",
   "pygments_lexer": "ipython3",
   "version": "3.5.2"
  }
 },
 "nbformat": 4,
 "nbformat_minor": 1
}
